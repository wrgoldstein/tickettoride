{
 "cells": [
  {
   "cell_type": "code",
   "execution_count": 1,
   "metadata": {
    "collapsed": false
   },
   "outputs": [
    {
     "name": "stdout",
     "output_type": "stream",
     "text": [
      "/Users/wg/Proj/tickettoride\n"
     ]
    }
   ],
   "source": [
    "%cd /Users/wg/Proj/tickettoride\n",
    "from ticket_to_ride import *\n",
    "\n",
    "import numpy as np"
   ]
  },
  {
   "cell_type": "code",
   "execution_count": 9,
   "metadata": {
    "collapsed": false
   },
   "outputs": [
    {
     "data": {
      "text/plain": [
       "('Vancouver', 'Calgary')"
      ]
     },
     "execution_count": 9,
     "metadata": {},
     "output_type": "execute_result"
    }
   ],
   "source": [
    "r = ticket_to_ride.routes[0]\n",
    "r.from_city, r.to_city"
   ]
  },
  {
   "cell_type": "code",
   "execution_count": 2,
   "metadata": {
    "collapsed": false
   },
   "outputs": [],
   "source": [
    "graph = dict()\n",
    "for city in ticket_to_ride.cities:\n",
    "    graph[city] = set()\n",
    "    for route in ticket_to_ride.routes:\n",
    "        if route.from_city == city:\n",
    "            graph[city].add(route.to_city)\n",
    "        elif route.to_city == city:\n",
    "            graph[city].add(route.from_city)"
   ]
  },
  {
   "cell_type": "code",
   "execution_count": 3,
   "metadata": {
    "collapsed": false
   },
   "outputs": [
    {
     "data": {
      "text/plain": [
       "{'Atlanta': {'Charleston', 'Miami', 'Nashville', 'New Orleans'},\n",
       " 'Boston': {'Montreal', 'New York'},\n",
       " 'Calgary': {'Helena', 'Seattle', 'Vancouver', 'Winnepeg'},\n",
       " 'Charleston': {'Atlanta', 'Miami', 'Raleigh'},\n",
       " 'Chicago': {'Duluth', 'Omaha', 'Pittsburgh', 'Saint Louis', 'Toronto'},\n",
       " 'Dallas': {'Houston', 'Little Rock', 'Oklahoma City'},\n",
       " 'Denver': {'Helena',\n",
       "  'Kansas City',\n",
       "  'Oklahoma City',\n",
       "  'Omaha',\n",
       "  'Phoenix',\n",
       "  'Salt Lake City'},\n",
       " 'Duluth': {'Chicago',\n",
       "  'Helena',\n",
       "  'Omaha',\n",
       "  'Sault St. Marie',\n",
       "  'Toronto',\n",
       "  'Winnepeg'},\n",
       " 'El Paso': {'Los Angeles', 'Phoenix', 'Santa Fe'},\n",
       " 'Helena': {'Calgary',\n",
       "  'Denver',\n",
       "  'Duluth',\n",
       "  'Omaha',\n",
       "  'Salt Lake City',\n",
       "  'Seattle',\n",
       "  'Winnepeg'},\n",
       " 'Houston': {'Dallas', 'New Orleans'},\n",
       " 'Kansas City': {'Denver', 'Omaha', 'Saint Louis'},\n",
       " 'Las Vegas': {'Los Angeles', 'Salt Lake City'},\n",
       " 'Little Rock': {'Dallas',\n",
       "  'Nashville',\n",
       "  'New Orleans',\n",
       "  'Oklahoma City',\n",
       "  'Saint Louis'},\n",
       " 'Los Angeles': {'El Paso', 'Las Vegas', 'Phoenix', 'San Francisco'},\n",
       " 'Miami': {'Atlanta', 'Charleston', 'New Orleans'},\n",
       " 'Montreal': {'Boston', 'New York', 'Sault St. Marie', 'Toronto'},\n",
       " 'Nashville': {'Atlanta',\n",
       "  'Little Rock',\n",
       "  'Pittsburgh',\n",
       "  'Raleigh',\n",
       "  'Saint Louis'},\n",
       " 'New Orleans': {'Atlanta', 'Houston', 'Little Rock', 'Miami'},\n",
       " 'New York': {'Boston', 'Montreal', 'Pittsburgh', 'Washington'},\n",
       " 'Oklahoma City': {'Dallas', 'Denver', 'Little Rock', 'Santa Fe'},\n",
       " 'Omaha': {'Chicago', 'Denver', 'Duluth', 'Helena', 'Kansas City'},\n",
       " 'Phoenix': {'Denver', 'El Paso', 'Los Angeles', 'Santa Fe'},\n",
       " 'Pittsburgh': {'Chicago',\n",
       "  'Nashville',\n",
       "  'New York',\n",
       "  'Raleigh',\n",
       "  'Saint Louis',\n",
       "  'Toronto',\n",
       "  'Washington'},\n",
       " 'Portland': {'Salt Lake City', 'San Francisco', 'Seattle'},\n",
       " 'Raleigh': {'Charleston', 'Nashville', 'Pittsburgh', 'Washington'},\n",
       " 'Saint Louis': {'Chicago',\n",
       "  'Kansas City',\n",
       "  'Little Rock',\n",
       "  'Nashville',\n",
       "  'Pittsburgh'},\n",
       " 'Salt Lake City': {'Denver',\n",
       "  'Helena',\n",
       "  'Las Vegas',\n",
       "  'Portland',\n",
       "  'San Francisco'},\n",
       " 'San Francisco': {'Los Angeles', 'Portland', 'Salt Lake City'},\n",
       " 'Santa Fe': {'El Paso', 'Oklahoma City', 'Phoenix'},\n",
       " 'Sault St. Marie': {'Duluth', 'Montreal', 'Toronto', 'Winnepeg'},\n",
       " 'Seattle': {'Calgary', 'Helena', 'Portland', 'Vancouver'},\n",
       " 'Toronto': {'Chicago', 'Duluth', 'Montreal', 'Pittsburgh', 'Sault St. Marie'},\n",
       " 'Vancouver': {'Calgary', 'Seattle'},\n",
       " 'Washington': {'New York', 'Pittsburgh', 'Raleigh'},\n",
       " 'Winnepeg': {'Calgary', 'Duluth', 'Helena', 'Sault St. Marie'}}"
      ]
     },
     "execution_count": 3,
     "metadata": {},
     "output_type": "execute_result"
    }
   ],
   "source": [
    "graph"
   ]
  },
  {
   "cell_type": "code",
   "execution_count": 54,
   "metadata": {
    "collapsed": false
   },
   "outputs": [
    {
     "name": "stdout",
     "output_type": "stream",
     "text": [
      "New York -> Pittsburgh\n",
      "New York -> Pittsburgh -> Toronto\n",
      "New York -> Pittsburgh -> Chicago\n",
      "New York -> Pittsburgh -> Nashville\n",
      "New York -> Pittsburgh -> Washington\n",
      "New York -> Pittsburgh -> Saint Louis\n",
      "New York -> Pittsburgh -> Raleigh\n",
      "New York -> Boston\n",
      "New York -> Boston -> Montreal\n",
      "New York -> Washington\n",
      "New York -> Washington -> Pittsburgh\n",
      "New York -> Washington -> Raleigh\n",
      "New York -> Montreal\n",
      "New York -> Montreal -> Toronto\n",
      "New York -> Montreal -> Boston\n",
      "New York -> Montreal -> Sault St. Marie\n"
     ]
    }
   ],
   "source": [
    "home = 'New York'\n",
    "\n",
    "for tier_1_city in graph[home]:\n",
    "    print home, '->', tier_1_city\n",
    "    for tier_2_city in graph[tier_1_city]:\n",
    "        if tier_1_city == home or tier_2_city == home: continue\n",
    "        print home, '->', tier_1_city, '->', tier_2_city"
   ]
  },
  {
   "cell_type": "code",
   "execution_count": null,
   "metadata": {
    "collapsed": true
   },
   "outputs": [],
   "source": [
    "\n",
    "\n",
    "class Djikstra(object):\n",
    "    \n",
    "    def __init__(self):\n",
    "        self.edge_distances = EdgeDistances.weights\n",
    "        \n",
    "    def run(self, initial_city):\n",
    "        self.total_distances = [float(\"inf\") for _ in range(len(cities))]\n",
    "        self.total_distances[initial_city] = 0\n",
    "        self.current = initial_city\n",
    "        self.unvisited = range(len(self.total_distances))\n",
    "        self.visit_queue = []\n",
    "        self.histories = [float(\"nan\") for _ in range(len(cities))]\n",
    "\n",
    "        while True:\n",
    "            if not len(self.unvisited):\n",
    "                break\n",
    "            self.step()\n",
    "            \n",
    "    def visited_target(self, target):\n",
    "        return target not in self.unvisited\n",
    "        \n",
    "    def step(self):\n",
    "        self.assign_distances()\n",
    "        self.reposition()\n",
    "        \n",
    "    def assign_distances(self):\n",
    "        d_0 = self.total_distances[self.current]\n",
    "        tentative_distances = self.distance_from(self.current)\n",
    "        for i, d in enumerate(tentative_distances):\n",
    "            if i not in self.unvisited:\n",
    "                continue\n",
    "            elif self.total_distances[i] > d + d_0:\n",
    "                self.total_distances[i] = d + d_0\n",
    "                self.histories[i] = self.current\n",
    "                \n",
    "    def distance_from(self, ix):\n",
    "        return self.edge_distances[ix]\n",
    "    \n",
    "    def neighbors(self):\n",
    "        enumerated = enumerate(self.edge_distances[self.current])\n",
    "        return [i for i, x in enumerated if not math.isinf(x)]\n",
    "    \n",
    "    def reposition(self):\n",
    "        self.unvisited.remove(self.current)\n",
    "        self.visit_queue += self.neighbors()\n",
    "        while self.current not in self.unvisited and len(self.visit_queue):\n",
    "            self.current = self.visit_queue.pop(0)\n",
    "            \n",
    "    def show_best_route_to(self, target):\n",
    "        k = []\n",
    "        r = self.histories[target]\n",
    "        while not math.isnan(r):\n",
    "            k.append(r)\n",
    "            r = self.histories[r]\n",
    "        return list(reversed(k))+[target]"
   ]
  },
  {
   "cell_type": "code",
   "execution_count": 90,
   "metadata": {
    "collapsed": true
   },
   "outputs": [],
   "source": [
    "    def bfs(graph, start):\n",
    "        visited, queue = set(), [start]\n",
    "        depth = 0\n",
    "        prev = {start: []}\n",
    "        distances = {}\n",
    "        while queue:\n",
    "            vertex = queue.pop(0)\n",
    "            prev[vertex]\n",
    "            if vertex not in visited:\n",
    "                visited.add(vertex)\n",
    "                neighbors = graph[vertex] - visited\n",
    "                queue.extend(neighbors)\n",
    "                for neighbor in neighbors:\n",
    "                    if len(prev[vertex]) + 1 < distances.get(neighbor, np.inf):\n",
    "                        prev[neighbor] = prev[vertex] + [vertex]\n",
    "                        distances[neighbor] = len(prev[vertex]) + 1\n",
    "        return distances"
   ]
  },
  {
   "cell_type": "code",
   "execution_count": 105,
   "metadata": {
    "collapsed": false
   },
   "outputs": [
    {
     "data": {
      "text/plain": [
       "[['New York',\n",
       "  'Pittsburgh',\n",
       "  'Toronto',\n",
       "  'Duluth',\n",
       "  'Helena',\n",
       "  'Salt Lake City',\n",
       "  'San Francisco'],\n",
       " ['New York',\n",
       "  'Pittsburgh',\n",
       "  'Chicago',\n",
       "  'Duluth',\n",
       "  'Helena',\n",
       "  'Salt Lake City',\n",
       "  'San Francisco'],\n",
       " ['New York',\n",
       "  'Pittsburgh',\n",
       "  'Chicago',\n",
       "  'Omaha',\n",
       "  'Helena',\n",
       "  'Salt Lake City',\n",
       "  'San Francisco'],\n",
       " ['New York',\n",
       "  'Pittsburgh',\n",
       "  'Chicago',\n",
       "  'Omaha',\n",
       "  'Denver',\n",
       "  'Salt Lake City',\n",
       "  'San Francisco'],\n",
       " ['New York',\n",
       "  'Pittsburgh',\n",
       "  'Saint Louis',\n",
       "  'Kansas City',\n",
       "  'Denver',\n",
       "  'Salt Lake City',\n",
       "  'San Francisco'],\n",
       " ['New York',\n",
       "  'Montreal',\n",
       "  'Toronto',\n",
       "  'Duluth',\n",
       "  'Helena',\n",
       "  'Salt Lake City',\n",
       "  'San Francisco'],\n",
       " ['New York',\n",
       "  'Montreal',\n",
       "  'Sault St. Marie',\n",
       "  'Duluth',\n",
       "  'Helena',\n",
       "  'Salt Lake City',\n",
       "  'San Francisco'],\n",
       " ['New York',\n",
       "  'Montreal',\n",
       "  'Sault St. Marie',\n",
       "  'Winnepeg',\n",
       "  'Helena',\n",
       "  'Salt Lake City',\n",
       "  'San Francisco']]"
      ]
     },
     "execution_count": 105,
     "metadata": {},
     "output_type": "execute_result"
    }
   ],
   "source": [
    "def bfs_paths(graph, start, goal, max_length=6):\n",
    "    queue = [(start, [start])]\n",
    "    while queue:\n",
    "        (vertex, path) = queue.pop(0)\n",
    "        for next in graph[vertex] - set(path):\n",
    "            if next == goal:\n",
    "                yield path + [next]\n",
    "            elif len(path) < max_length:\n",
    "                queue.append((next, path + [next]))\n",
    "\n",
    "list(bfs_paths(graph, 'New York', 'San Francisco'))"
   ]
  },
  {
   "cell_type": "code",
   "execution_count": 109,
   "metadata": {
    "collapsed": false
   },
   "outputs": [],
   "source": [
    "class Graph:\n",
    "    graph = dict()\n",
    "    for city in ticket_to_ride.cities:\n",
    "        graph[city] = set()\n",
    "        for route in ticket_to_ride.routes:\n",
    "            if route.from_city == city:\n",
    "                graph[city].add(route.to_city)\n",
    "            elif route.to_city == city:\n",
    "                graph[city].add(route.from_city)"
   ]
  },
  {
   "cell_type": "code",
   "execution_count": 108,
   "metadata": {
    "collapsed": false
   },
   "outputs": [
    {
     "data": {
      "text/plain": [
       "6"
      ]
     },
     "execution_count": 108,
     "metadata": {},
     "output_type": "execute_result"
    }
   ],
   "source": [
    "MaxDistance.find('New York', 'San Francisco')"
   ]
  },
  {
   "cell_type": "code",
   "execution_count": 7,
   "metadata": {
    "collapsed": false
   },
   "outputs": [],
   "source": [
    "t = Ticket('New York', 'Washington', 3)\n",
    "\n",
    "from itertools import chain\n",
    "def satisfied(start, routes):\n",
    "    available = list(chain(*map(lambda r: [r.from_city, r.to_city], routes)))\n",
    "    visited, queue = set(), [start]\n",
    "    depth = 0\n",
    "    prev = {start: []}\n",
    "    distances = {}\n",
    "    while queue:\n",
    "        vertex = queue.pop(0)\n",
    "        prev[vertex]\n",
    "        if vertex not in visited and vertex in available:\n",
    "            visited.add(vertex)\n",
    "            neighbors = graph[vertex] - visited\n",
    "            queue.extend(neighbors)\n",
    "            for neighbor in neighbors:\n",
    "                if len(prev[vertex]) + 1 < distances.get(neighbor, np.inf):\n",
    "                    prev[neighbor] = prev[vertex] + [vertex]\n",
    "                    distances[neighbor] = len(prev[vertex]) + 1\n",
    "    return distances"
   ]
  },
  {
   "cell_type": "code",
   "execution_count": 30,
   "metadata": {
    "collapsed": false
   },
   "outputs": [],
   "source": [
    "def route_graph_from_routes(routes):\n",
    "    graph = dict()\n",
    "    for city in cities:\n",
    "        graph[city] = set()\n",
    "        for route in routes:\n",
    "            if route.from_city == city:\n",
    "                graph[city].add(route.to_city)\n",
    "            elif route.to_city == city:\n",
    "                graph[city].add(route.from_city)\n",
    "    return graph"
   ]
  },
  {
   "cell_type": "code",
   "execution_count": 31,
   "metadata": {
    "collapsed": true
   },
   "outputs": [],
   "source": [
    "routes2 = [\n",
    "\t\tRoute('Vancouver', 'Calgary', 3, '-'),\n",
    "\t\tRoute('Vancouver', 'Seattle', 1, '-'),\n",
    "\t\tRoute('Seattle', 'Portland', 1, '-'),\n",
    "\t\tRoute('San Francisco', 'Los Angeles', 1, '-')\n",
    "\t]"
   ]
  },
  {
   "cell_type": "code",
   "execution_count": 32,
   "metadata": {
    "collapsed": false
   },
   "outputs": [
    {
     "data": {
      "text/plain": [
       "{'Atlanta': set(),\n",
       " 'Boston': set(),\n",
       " 'Calgary': {'Vancouver'},\n",
       " 'Charleston': set(),\n",
       " 'Chicago': set(),\n",
       " 'Dallas': set(),\n",
       " 'Denver': set(),\n",
       " 'Duluth': set(),\n",
       " 'El Paso': set(),\n",
       " 'Helena': set(),\n",
       " 'Houston': set(),\n",
       " 'Kansas City': set(),\n",
       " 'Las Vegas': set(),\n",
       " 'Little Rock': set(),\n",
       " 'Los Angeles': {'San Francisco'},\n",
       " 'Miami': set(),\n",
       " 'Montreal': set(),\n",
       " 'Nashville': set(),\n",
       " 'New Orleans': set(),\n",
       " 'New York': set(),\n",
       " 'Oklahoma City': set(),\n",
       " 'Omaha': set(),\n",
       " 'Phoenix': set(),\n",
       " 'Pittsburgh': set(),\n",
       " 'Portland': {'Seattle'},\n",
       " 'Raleigh': set(),\n",
       " 'Saint Louis': set(),\n",
       " 'Salt Lake City': set(),\n",
       " 'San Francisco': {'Los Angeles'},\n",
       " 'Santa Fe': set(),\n",
       " 'Sault St. Marie': set(),\n",
       " 'Seattle': {'Portland', 'Vancouver'},\n",
       " 'Toronto': set(),\n",
       " 'Vancouver': {'Calgary', 'Seattle'},\n",
       " 'Washington': set(),\n",
       " 'Winnepeg': set()}"
      ]
     },
     "execution_count": 32,
     "metadata": {},
     "output_type": "execute_result"
    }
   ],
   "source": []
  },
  {
   "cell_type": "code",
   "execution_count": null,
   "metadata": {
    "collapsed": true
   },
   "outputs": [],
   "source": []
  }
 ],
 "metadata": {
  "kernelspec": {
   "display_name": "Python 2",
   "language": "python",
   "name": "python2"
  },
  "language_info": {
   "codemirror_mode": {
    "name": "ipython",
    "version": 2
   },
   "file_extension": ".py",
   "mimetype": "text/x-python",
   "name": "python",
   "nbconvert_exporter": "python",
   "pygments_lexer": "ipython2",
   "version": "2.7.10"
  }
 },
 "nbformat": 4,
 "nbformat_minor": 0
}
