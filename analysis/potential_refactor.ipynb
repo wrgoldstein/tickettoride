{
 "cells": [
  {
   "cell_type": "code",
   "execution_count": 1,
   "metadata": {
    "collapsed": false
   },
   "outputs": [
    {
     "name": "stdout",
     "output_type": "stream",
     "text": [
      "/Users/wg/Proj/tickettoride\n"
     ]
    }
   ],
   "source": [
    "%cd /Users/wg/Proj/tickettoride\n",
    "from ticket_to_ride import *\n",
    "\n",
    "%matplotlib inline\n",
    "from matplotlib import pyplot as plt\n",
    "\n",
    "import pandas as pd\n",
    "import numpy as np"
   ]
  },
  {
   "cell_type": "code",
   "execution_count": 2,
   "metadata": {
    "collapsed": true
   },
   "outputs": [],
   "source": [
    "import time"
   ]
  },
  {
   "cell_type": "code",
   "execution_count": 3,
   "metadata": {
    "collapsed": false
   },
   "outputs": [
    {
     "name": "stdout",
     "output_type": "stream",
     "text": [
      "made name,  1f855c\n",
      "made name,  286605\n"
     ]
    }
   ],
   "source": [
    "\n",
    "game1 = TicketToRide()\n",
    "player1 = Player(DefaultStrategy)\n",
    "player2 = Player(DefaultStrategy)\n",
    "player1.sit(game1)\n",
    "player2.sit(game1)\n",
    "game1.simulate()\n"
   ]
  },
  {
   "cell_type": "code",
   "execution_count": 8,
   "metadata": {
    "collapsed": false
   },
   "outputs": [
    {
     "name": "stdout",
     "output_type": "stream",
     "text": [
      "\n",
      "        Ticket (not satisfied)\n",
      "        from: Calgary\n",
      "        to:   Salt Lake City\n",
      "        points: 7\n",
      "        \n"
     ]
    },
    {
     "data": {
      "text/plain": [
       "[Vancouver => Seattle, 1 (-),\n",
       " Los Angeles => Las Vegas, 2 (-),\n",
       " Dallas => Houston, 1 (-),\n",
       " Denver => Omaha, 2 (-),\n",
       " Santa Fe => Oklahoma City, 2 (-),\n",
       " Vancouver => Calgary, 3 (-),\n",
       " Kansas City => Saint Louis, 2 (p),\n",
       " Oklahoma City => Dallas, 2 (-),\n",
       " Houston => New Orleans, 2 (-),\n",
       " Saint Louis => Nashville, 2 (-),\n",
       " Toronto => Pittsburgh, 2 (-),\n",
       " San Francisco => Los Angeles, 3 (p),\n",
       " Chicago => Saint Louis, 2 (g),\n",
       " Pittsburgh => Raleigh, 2 (-),\n",
       " Atlanta => Charleston, 2 (-),\n",
       " Montreal => Boston, 2 (-),\n",
       " New York => Washington, 2 (o),\n",
       " Los Angeles => Phoenix, 3 (-),\n",
       " Pittsburgh => New York, 2 (w),\n",
       " Duluth => Sault St. Marie, 3 (-)]"
      ]
     },
     "execution_count": 8,
     "metadata": {},
     "output_type": "execute_result"
    }
   ],
   "source": [
    "t = player1.tickets[1]\n",
    "print t\n",
    "player1.routes"
   ]
  },
  {
   "cell_type": "code",
   "execution_count": 14,
   "metadata": {
    "collapsed": false
   },
   "outputs": [],
   "source": [
    "route = player1.routes[0]\n",
    "used = []\n",
    "def next_city(city):\n",
    "    for route in player1.routes:\n",
    "        if route in used:\n",
    "            continue\n",
    "        if route.from_city == city:\n",
    "            used.append(route)\n",
    "            return route.to_city\n",
    "        elif route.to_city == city:\n",
    "            used.append(route)\n",
    "            return route.from_city"
   ]
  },
  {
   "cell_type": "code",
   "execution_count": 15,
   "metadata": {
    "collapsed": false
   },
   "outputs": [
    {
     "name": "stdout",
     "output_type": "stream",
     "text": [
      "Calgary\n",
      "Vancouver\n",
      "Seattle\n"
     ]
    }
   ],
   "source": [
    "current = 'Calgary'\n",
    "print current\n",
    "while True:\n",
    "    current = next_city(current)\n",
    "    if current is None:\n",
    "        break\n",
    "    used.append(current)\n",
    "    print current"
   ]
  },
  {
   "cell_type": "code",
   "execution_count": 9,
   "metadata": {
    "collapsed": false
   },
   "outputs": [
    {
     "data": {
      "text/plain": [
       "Vancouver => Calgary, 3 (-)"
      ]
     },
     "execution_count": 9,
     "metadata": {},
     "output_type": "execute_result"
    }
   ],
   "source": [
    "next_city('Calgary')"
   ]
  },
  {
   "cell_type": "raw",
   "metadata": {},
   "source": [
    "Actions: Perform one and only one\n",
    "\n",
    "1. Draw train cards\n",
    "  objectives:\n",
    "    i. satisfy an immediate route\n",
    "    ii. plan for the future\n",
    "  tactics:\n",
    "    a. from the face up area\n",
    "    b. from the deck\n",
    "    \n",
    " 2. Claim a route\n",
    "     a. longer routes are worth more, but require more trains\n",
    "     b. some routes add to the probability of completing a ticket\n",
    " 3. Draw destination tickets\n",
    "     a. destination tickets can be worth a lot\n",
    "     b. not completing them is negative points\n",
    "     \n",
    "     \n",
    "Strategies:\n",
    "\n",
    "Longest Router - optimize for building long routes\n",
    "\n",
    "Ticket Finisher - optimize for finishing tickets\n",
    "\n",
    "Opportunity Taker - optimize for building a route as fast as possible\n",
    "\n",
    "Big Meanie - place trains that make other player's lives harder\n",
    "\n",
    "\n",
    "So what if each player \"knew\" all four strategies, and implements them \n",
    "as part of some mix? ie:\n",
    "\n",
    "Player 1 is 30% LR, 40% TF, 20% OT, and 10% BM.\n",
    "\n",
    "Then, let's say the situation \"lends\" itself to different strategies at different times.\n",
    "\n",
    "Thus, let's say at the outset of the game, the Player has a strong preference for the OT strategy-- let's say in fact the situation causes the following weights to be laid on each action:\n",
    "\n",
    "LR: 10%\n",
    "TF: 30%\n",
    "OT: 60%\n",
    "BM: 0%\n",
    "\n",
    "Now, the players natural proclivity plus this analysis gives:\n",
    "\n"
   ]
  },
  {
   "cell_type": "code",
   "execution_count": 18,
   "metadata": {
    "collapsed": false
   },
   "outputs": [
    {
     "data": {
      "text/plain": [
       "array([ 0.11111111,  0.44444444,  0.44444444,  0.        ])"
      ]
     },
     "execution_count": 18,
     "metadata": {},
     "output_type": "execute_result"
    }
   ],
   "source": [
    "n = np.array([.3, .4, .2, .1])\n",
    "m = np.array([.1, .3, .6, 0])\n",
    "\n",
    "new_weights = (n*m) / (n*m).sum()\n",
    "\n",
    "# thus, even a non opportunistic player will sometimes give that strategy a heavy weighting."
   ]
  },
  {
   "cell_type": "raw",
   "metadata": {},
   "source": [
    "Now our task is to calculate, given the situation, the appropriate weights given an _eventual_ outcome of winning or not winning.\n",
    "\n",
    "So, if an agent performs action 1) Taking a train card, with a color appropriate for the route it most immediately needs, it should see a reward of a) any points earned on subsequent turns, plus b) a fixed amount indicating an eventual win or loss."
   ]
  },
  {
   "cell_type": "raw",
   "metadata": {},
   "source": [
    "Which brings us to the hardest part: Ticket To Ride is complex, and calculating all of the options each step will require a very long running simulation. How can we reduce the complexity of evaluating the current state of the game?\n",
    "\n",
    "Let's say we have a graph G representing all of the cities and the routes that connect them. The edges E have information about whether they are claimed or not. Each player might then have a graph G_a, which represents the game as it appears to them: Which routes are already claimed and which cities are therefore connected, and how much each route is worth to them strategically.\n",
    "\n",
    "If G_a is calculated at the start of the game, the relative value of each edge is a function of the ticket cards (which cities must be connected), how close it is to completion (whether you have enough train cards of the right color), and how much it's completion would improve the value of adjacent edges (sometimes picking up a route is useful more for its ability to connect other routes than its raw score potential) and of course both it's individual length (contribution to score) and it's ability to add to your eventual ability to earn the longest route.\n",
    "\n",
    "G_a must therefore be updated with each train card or ticket card picked up and each route claimed, perhaps as well as when the face up cards on the table are updated."
   ]
  },
  {
   "cell_type": "code",
   "execution_count": 19,
   "metadata": {
    "collapsed": false
   },
   "outputs": [
    {
     "data": {
      "text/plain": [
       "ticket_to_ride.lib.ticket_deck.TicketDeck"
      ]
     },
     "execution_count": 19,
     "metadata": {},
     "output_type": "execute_result"
    }
   ],
   "source": [
    "TicketDeck"
   ]
  },
  {
   "cell_type": "code",
   "execution_count": null,
   "metadata": {
    "collapsed": true
   },
   "outputs": [],
   "source": [
    "\n",
    "\n",
    "class Player:\n",
    "    \"\"\"\n",
    "    A Player object contains the necessary state for a\n",
    "    single player over the course of a game: Which\n",
    "    cards are possessed and which routes are claimed.\n",
    "    \"\"\"\n",
    "    # train cards\n",
    "    # ticket cards\n",
    "    # routes claimed\n",
    "    # score\n",
    "    \n",
    "    pass\n",
    "\n",
    "\n",
    "class Game:\n",
    "    \"\"\"\n",
    "    The Game object contains the necessary state for a \n",
    "    single match of TTR\n",
    "    \"\"\"\n",
    "    \n",
    "    # face up train cards\n",
    "    # train card deck\n",
    "    # ticket card deck\n",
    "    # routes claimed\n",
    "    # \n",
    "\n",
    "    def __init__(self, *players):\n",
    "        self.players = players\n",
    "        \n",
    "\n",
    "\n",
    "class Service:\n",
    "    \"\"\"\n",
    "    The Service class helps mediate the nuts and bolts of\n",
    "    playing a game, keeping as much noise out of the main\n",
    "    domain models as possible.\n",
    "    \"\"\"\n",
    "    pass\n",
    "\n",
    "\n",
    "class Strategy:\n",
    "    \"\"\"\n",
    "    A Strategy stores information about the weights on each\n",
    "    potential action, and determines a next action given a\n",
    "    state S and a set of weights W. A Strategy can persist\n",
    "    across Games (while player state is refreshed).\n",
    "    \"\"\"\n",
    "    pass\n",
    "\n",
    "class Simulation:\n",
    "    \"\"\"\n",
    "    A Simulation is a series of games which allows the\n",
    "    Strategies for each player to learn about the \n",
    "    appropriate weights W that maximize their chances\n",
    "    of winning.\n",
    "    \"\"\"\n",
    "    \n",
    "    # simulation = f(players, )\n",
    "    def __init__(self):\n",
    "        \n",
    "\n",
    "\n",
    "class Graph:\n",
    "    \"\"\"\n",
    "    A Graph represents a Player's understanding of the \n",
    "    current state S. It is an input to a Strategy, and\n",
    "    together with the weights W dictates (probabilistically)\n",
    "    the next action taken. It is updated each turn.\n",
    "    \"\"\"\n",
    "    \n",
    "    # graph = f(\n",
    "    #   player.tickets, player.routes, player.train_cards, game.face_up_train_cards, game.routes\n",
    "    # )\n",
    "\n",
    "game = Game()\n",
    "\n",
    "state = {\n",
    "    \"game\": game,\n",
    "    \"players\": None,\n",
    "    \"train_deck\": None,\n",
    "    \"ticket_deck\": None,\n",
    "    \n",
    "}"
   ]
  },
  {
   "cell_type": "code",
   "execution_count": null,
   "metadata": {
    "collapsed": true
   },
   "outputs": [],
   "source": [
    "player1 = Player()\n",
    "player2 = Player()\n",
    "\n",
    "# can do as part of player initialization\n",
    "player1.strategy = Strategy()\n",
    "player2.strategy = Strategy()\n",
    "\n",
    "game = Game(player1, player2)\n",
    "game.play()\n",
    "\n",
    "simulation = Simulation(player1, player2)\n",
    "simulation.play(500)\n",
    "\n"
   ]
  },
  {
   "cell_type": "code",
   "execution_count": 31,
   "metadata": {
    "collapsed": false
   },
   "outputs": [],
   "source": [
    "class S:\n",
    "    @staticmethod\n",
    "    def foo(a, b):\n",
    "        return S.add(a,b)\n",
    "\n",
    "    @staticmethod\n",
    "    def add(a,b):\n",
    "        return a + b"
   ]
  },
  {
   "cell_type": "code",
   "execution_count": 32,
   "metadata": {
    "collapsed": false
   },
   "outputs": [
    {
     "data": {
      "text/plain": [
       "3"
      ]
     },
     "execution_count": 32,
     "metadata": {},
     "output_type": "execute_result"
    }
   ],
   "source": [
    "S.foo(1,2)"
   ]
  },
  {
   "cell_type": "code",
   "execution_count": null,
   "metadata": {
    "collapsed": true
   },
   "outputs": [],
   "source": []
  }
 ],
 "metadata": {
  "kernelspec": {
   "display_name": "Python 2",
   "language": "python",
   "name": "python2"
  },
  "language_info": {
   "codemirror_mode": {
    "name": "ipython",
    "version": 2
   },
   "file_extension": ".py",
   "mimetype": "text/x-python",
   "name": "python",
   "nbconvert_exporter": "python",
   "pygments_lexer": "ipython2",
   "version": "2.7.10"
  }
 },
 "nbformat": 4,
 "nbformat_minor": 2
}
