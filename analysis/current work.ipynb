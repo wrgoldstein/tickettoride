{
 "cells": [
  {
   "cell_type": "code",
   "execution_count": null,
   "metadata": {
    "collapsed": false
   },
   "outputs": [],
   "source": [
    "%cd /Users/wg/Proj/tickettoride\n",
    "from ticket_to_ride import *"
   ]
  },
  {
   "cell_type": "code",
   "execution_count": null,
   "metadata": {
    "collapsed": true
   },
   "outputs": [],
   "source": [
    "%matplotlib inline\n",
    "from matplotlib import pyplot as plt\n",
    "from __future__ import unicode_literals\n",
    "\n",
    "import pandas as pd\n",
    "import numpy as np\n"
   ]
  },
  {
   "cell_type": "code",
   "execution_count": null,
   "metadata": {
    "collapsed": false
   },
   "outputs": [],
   "source": [
    "# pd.DataFrame(player1.strategy.history).plot()\n",
    "\n",
    "# player1.tickets\n",
    "\n",
    "# player1.routes\n",
    "\n",
    "# player1.tickets\n",
    "\n",
    "# player1.routes\n",
    "\n",
    "# player1.strategy.feasible_paths(game1, player1.tickets[0]) # BLOCKED\n",
    "\n",
    "# graph = game.helpers.route_graph_from_routes(game1.unclaimed_routes() + player1.routes)\n",
    "\n",
    "# player1.action(game1)\n",
    "\n",
    "# player1.strategy.score_routes(game1)"
   ]
  },
  {
   "cell_type": "code",
   "execution_count": null,
   "metadata": {
    "collapsed": false
   },
   "outputs": [],
   "source": [
    "%%time\n",
    "player1 = Player(WeightedStrategy, {\"alpha\": 0, \"beta\": 0, \"gamma\": 50, \"epsilon\": 0, \"M\": -200, \"m\": 10})\n",
    "player2 = Player(WeightedStrategy, {})\n",
    "game1 = Game()\n",
    "game1.players = [player1, player2]\n",
    "game1.play()\n",
    "\n",
    "for player in game1.players:\n",
    "    plt.plot(game1.scores[player.name], label = player.name + '; ' + player.strategy.name)\n",
    "        \n",
    "plt.legend()"
   ]
  },
  {
   "cell_type": "code",
   "execution_count": null,
   "metadata": {
    "collapsed": false
   },
   "outputs": [],
   "source": [
    "game1.actions"
   ]
  },
  {
   "cell_type": "markdown",
   "metadata": {},
   "source": [
    "### Given basic weightings, how much variance is there in a player's score in a two player match?"
   ]
  },
  {
   "cell_type": "code",
   "execution_count": null,
   "metadata": {
    "collapsed": false,
    "scrolled": false
   },
   "outputs": [],
   "source": [
    "%%time\n",
    "scores = []\n",
    "satisfied_tickets = []\n",
    "\n",
    "player1 = Player(WeightedStrategy, {\"alpha\": 0, \"beta\": 0, \"epsilon\": 0, \"gamma\": 50})\n",
    "player2 = Player(WeightedStrategy, {})\n",
    "for i in range(5):    \n",
    "    game1 = Game()\n",
    "    game1.players = [player1, player2]\n",
    "    game1.play()\n",
    "    \n",
    "    plt.plot(game1.scores[player1.name], color='blue', alpha=.5)\n",
    "    plt.plot(game1.scores[player2.name], color='orange', alpha=.5)\n",
    "\n",
    "    print \"player1 wins!\" if game1.winner == player1 else \"player2 wins\"\n",
    "    scores.append([player1.score(), player2.score()])\n",
    "    satisfied_tickets.append([len(player1.satisfied_tickets()), len(player2.satisfied_tickets())])\n"
   ]
  },
  {
   "cell_type": "raw",
   "metadata": {},
   "source": [
    "# TODO\n",
    "[NOTE] Taking a small break. Concerned that ticket to ride constitutes such a vast search space it will be difficult to come to general conclusions about how to approach playing the game. I'm going to try Dominion, which is a simpler game to model, as a next step.\n",
    "\n",
    "-        Step through a game decision by decision, making sure to understand why each action is taken\n",
    "\n",
    "\n",
    "\n",
    "-        Understand why Default sometimes blows Weighted out of the water\n",
    "-        Understand the relative contributions to route scores from different greeks\n",
    "- [DONE] Fix simulation code, be able to play a game\n",
    "- [DONE] Finish including the above \"score_routes\" code in a new strategy (\"weighted\")\n",
    "- [DONE] List all of the learned variables\n",
    "- [DONE] Comparing the deep copied routes with the routes stored on setup fails in the new weighted strategy class. To fix, we can implement `__eq__` on the route class to ignore specific instances.\n",
    "-        Once that's done, we should be able to simulate a game with the new weighted strategy! Then we'll check that it indeed performs better.. and do one of \n",
    "  a) start to tweak it to incorporate more rules complexity (face up cards)\n",
    "  b) start to incorporate learning / exploration of the problem space\n",
    "  c) start to incorporate parameters as a function of time (how far into the game we are)"
   ]
  },
  {
   "cell_type": "code",
   "execution_count": null,
   "metadata": {
    "collapsed": false
   },
   "outputs": [],
   "source": [
    "satisfied_tickets"
   ]
  },
  {
   "cell_type": "code",
   "execution_count": null,
   "metadata": {
    "collapsed": false
   },
   "outputs": [],
   "source": [
    "plt.hist(np.transpose(scores)[1])"
   ]
  },
  {
   "cell_type": "code",
   "execution_count": null,
   "metadata": {
    "collapsed": true
   },
   "outputs": [],
   "source": [
    "L = 4\n",
    "r = np.arange(L, L+4)"
   ]
  },
  {
   "cell_type": "code",
   "execution_count": null,
   "metadata": {
    "collapsed": false
   },
   "outputs": [],
   "source": [
    "r, (r - L)"
   ]
  },
  {
   "cell_type": "code",
   "execution_count": null,
   "metadata": {
    "collapsed": true
   },
   "outputs": [],
   "source": []
  }
 ],
 "metadata": {
  "kernelspec": {
   "display_name": "Python 2",
   "language": "python",
   "name": "python2"
  },
  "language_info": {
   "codemirror_mode": {
    "name": "ipython",
    "version": 2
   },
   "file_extension": ".py",
   "mimetype": "text/x-python",
   "name": "python",
   "nbconvert_exporter": "python",
   "pygments_lexer": "ipython2",
   "version": "2.7.10"
  }
 },
 "nbformat": 4,
 "nbformat_minor": 0
}
